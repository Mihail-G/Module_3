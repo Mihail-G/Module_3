{
 "cells": [
  {
   "cell_type": "code",
   "execution_count": 18,
   "id": "8aa66c5c",
   "metadata": {},
   "outputs": [
    {
     "name": "stdout",
     "output_type": "stream",
     "text": [
      "64\n"
     ]
    }
   ],
   "source": [
    "#1\n",
    "n, d, r = map(int, input().split(' '))\n",
    "l = 2*d + 2*r*n\n",
    "print(l)"
   ]
  },
  {
   "cell_type": "code",
   "execution_count": 5,
   "id": "5f00faaf",
   "metadata": {},
   "outputs": [
    {
     "name": "stdout",
     "output_type": "stream",
     "text": [
      "4.472\n",
      "2.115\n",
      "1.454\n"
     ]
    }
   ],
   "source": [
    "#2\n",
    "q = int(input())\n",
    "while q > 2:\n",
    "    q = round(q**0.5, 3)\n",
    "    print(q)"
   ]
  },
  {
   "cell_type": "code",
   "execution_count": 6,
   "id": "5670f825",
   "metadata": {},
   "outputs": [
    {
     "name": "stdout",
     "output_type": "stream",
     "text": [
      "3\n"
     ]
    }
   ],
   "source": [
    "#3\n",
    "n = int(input())\n",
    "for i in range(2, int(n**0.5)+1):\n",
    "    if n%i==0:\n",
    "        print(i)\n",
    "        break"
   ]
  },
  {
   "cell_type": "code",
   "execution_count": 1,
   "id": "ab9cf264",
   "metadata": {},
   "outputs": [
    {
     "name": "stdout",
     "output_type": "stream",
     "text": [
      "2\n"
     ]
    }
   ],
   "source": [
    "#4\n",
    "n = int(input())\n",
    "q=0\n",
    "while n!=0:\n",
    "    if n%2==0:\n",
    "        q+=1\n",
    "    n = int(input())\n",
    "print(q)"
   ]
  },
  {
   "cell_type": "code",
   "execution_count": null,
   "id": "0c2a0137",
   "metadata": {},
   "outputs": [
    {
     "name": "stdout",
     "output_type": "stream",
     "text": [
      "199999\n"
     ]
    }
   ],
   "source": [
    "#5\n",
    "from itertools import product\n",
    "\n",
    "def is_palidrome(n):\n",
    "    return n == n[::-1]\n",
    "\n",
    "for c in range(100000, 999999):\n",
    "    n = str(c)\n",
    "\n",
    "    if not is_palidrome(n[1:]):\n",
    "        continue\n",
    "    n = str(int(n)+1)\n",
    "\n",
    "    if not is_palidrome(n[1:]):\n",
    "        continue\n",
    "    n = str(int(n)+1)\n",
    "\n",
    "    if not is_palidrome(n[1:-1]):\n",
    "        continue\n",
    "    n = str(int(n)+1)\n",
    "\n",
    "    if is_palidrome(n):\n",
    "        print(c)\n",
    "        break"
   ]
  },
  {
   "cell_type": "code",
   "execution_count": 7,
   "id": "52c24cfa",
   "metadata": {},
   "outputs": [
    {
     "name": "stdout",
     "output_type": "stream",
     "text": [
      " 25\n",
      "*25\n",
      "___\n",
      "625\n"
     ]
    }
   ],
   "source": [
    "#6\n",
    "for i in range(10,100):\n",
    "    if i**2 % 100 == i:\n",
    "        break\n",
    "\n",
    "print(f'{i:>3}',\n",
    "      f'*{i}',\n",
    "      '___',\n",
    "      f'{i**2}',\n",
    "      sep = '\\n')\n"
   ]
  },
  {
   "cell_type": "code",
   "execution_count": null,
   "id": "8e5ce129",
   "metadata": {},
   "outputs": [],
   "source": [
    "#7\n"
   ]
  },
  {
   "cell_type": "code",
   "execution_count": 2,
   "id": "0d7d8085",
   "metadata": {},
   "outputs": [
    {
     "name": "stdout",
     "output_type": "stream",
     "text": [
      "1\n"
     ]
    }
   ],
   "source": [
    "#8\n",
    "x = int(input())\n",
    "c = 0\n",
    "\n",
    "for i in range(1, int(x**0.5)+1):\n",
    "    for j in range(1, i):\n",
    "        if x == i**2 + j**2:\n",
    "            c += 1\n",
    "        elif i==j:\n",
    "            c -= 1\n",
    "print(c)"
   ]
  },
  {
   "cell_type": "code",
   "execution_count": 10,
   "id": "43bf4cd9",
   "metadata": {},
   "outputs": [
    {
     "name": "stdout",
     "output_type": "stream",
     "text": [
      "12\n"
     ]
    }
   ],
   "source": [
    "#9\n",
    "n = int(input())\n",
    "s = 0\n",
    "print((n*(n+1)*(n+2))//2)"
   ]
  },
  {
   "cell_type": "code",
   "execution_count": 11,
   "id": "d7646728",
   "metadata": {},
   "outputs": [
    {
     "ename": "SyntaxError",
     "evalue": "expected ':' (409437311.py, line 4)",
     "output_type": "error",
     "traceback": [
      "  \u001b[36mCell\u001b[39m\u001b[36m \u001b[39m\u001b[32mIn[11]\u001b[39m\u001b[32m, line 4\u001b[39m\n\u001b[31m    \u001b[39m\u001b[31mfor k in range()\u001b[39m\n                    ^\n\u001b[31mSyntaxError\u001b[39m\u001b[31m:\u001b[39m expected ':'\n"
     ]
    }
   ],
   "source": [
    "#10\n",
    "n = int(input())\n",
    "\n",
    "for k in range()\n",
    "q = n\n",
    "i =1\n",
    "while q>0:\n",
    "    q -= i\n",
    "    i += 1\n"
   ]
  }
 ],
 "metadata": {
  "kernelspec": {
   "display_name": "Python 3",
   "language": "python",
   "name": "python3"
  },
  "language_info": {
   "codemirror_mode": {
    "name": "ipython",
    "version": 3
   },
   "file_extension": ".py",
   "mimetype": "text/x-python",
   "name": "python",
   "nbconvert_exporter": "python",
   "pygments_lexer": "ipython3",
   "version": "3.12.9"
  }
 },
 "nbformat": 4,
 "nbformat_minor": 5
}
