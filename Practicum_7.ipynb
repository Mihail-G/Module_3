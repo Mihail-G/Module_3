{
 "cells": [
  {
   "cell_type": "code",
   "execution_count": 2,
   "metadata": {},
   "outputs": [
    {
     "name": "stdout",
     "output_type": "stream",
     "text": [
      "[102, 119, 136, 153, 170, 187, 204, 221, 238, 255, 272, 289, 306, 323, 340, 357, 374, 391, 408, 425, 442, 459, 476, 493, 510, 527, 544, 561, 578, 595, 612, 629, 646, 663, 680, 697, 714, 731, 748, 765, 782, 799, 816, 833, 850, 867, 884, 901, 918, 935, 952, 969, 986]\n"
     ]
    }
   ],
   "source": [
    "#1\n",
    "m = [i for i in range(100, 1000) if i%17==0]\n",
    "m_sorted = sorted(m)\n",
    "print(m_sorted)"
   ]
  },
  {
   "cell_type": "code",
   "execution_count": 10,
   "metadata": {},
   "outputs": [
    {
     "name": "stdout",
     "output_type": "stream",
     "text": [
      "pbil\n"
     ]
    }
   ],
   "source": [
    "#2\n",
    "s = input()\n",
    "print(s[2:len(s)+1:3])"
   ]
  },
  {
   "cell_type": "code",
   "execution_count": 61,
   "metadata": {},
   "outputs": [],
   "source": [
    "#3\n",
    "import math\n",
    "n = int(input('Введите число'))\n",
    "\n",
    "while (math.sqrt(n)).is_integer()==False:\n",
    "    n = int(input('Введите другое число'))"
   ]
  },
  {
   "cell_type": "code",
   "execution_count": null,
   "metadata": {},
   "outputs": [
    {
     "name": "stdout",
     "output_type": "stream",
     "text": [
      "15\n"
     ]
    }
   ],
   "source": [
    "#4\n",
    "n = int(input('Введите число'))\n",
    "s = 0\n",
    "\n",
    "for i in range(n+1):\n",
    "    s+=i\n",
    "print(s)"
   ]
  },
  {
   "cell_type": "code",
   "execution_count": null,
   "metadata": {},
   "outputs": [
    {
     "name": "stdout",
     "output_type": "stream",
     "text": [
      "1 8 27 64 "
     ]
    }
   ],
   "source": [
    "#5\n",
    "n = int(input('Введите число'))\n",
    "e = 1\n",
    "\n",
    "while e**3<=n:\n",
    "    print(e**3, end=' ')\n",
    "    e+=1"
   ]
  },
  {
   "cell_type": "code",
   "execution_count": null,
   "metadata": {},
   "outputs": [
    {
     "name": "stdout",
     "output_type": "stream",
     "text": [
      "1\n",
      "2\n",
      "4\n",
      "8\n",
      "16\n",
      "32\n",
      "64\n",
      "128\n",
      "256\n"
     ]
    }
   ],
   "source": [
    "#6\n",
    "n = int(input('Введите число'))\n",
    "q = 1\n",
    "\n",
    "while q<=n:\n",
    "    print(q)\n",
    "    q*=2"
   ]
  },
  {
   "cell_type": "code",
   "execution_count": null,
   "metadata": {},
   "outputs": [
    {
     "name": "stdout",
     "output_type": "stream",
     "text": [
      "верно\n"
     ]
    }
   ],
   "source": [
    "#7\n",
    "import math\n",
    "n = int(input('Введите число'))\n",
    "\n",
    "if math.log(n, 2).is_integer() == True:\n",
    "    print('верно')\n",
    "else:\n",
    "    print('неверно')"
   ]
  },
  {
   "cell_type": "code",
   "execution_count": 78,
   "metadata": {},
   "outputs": [
    {
     "name": "stdout",
     "output_type": "stream",
     "text": [
      "7\n"
     ]
    }
   ],
   "source": [
    "#8\n",
    "import math\n",
    "n = int(input())\n",
    "print(math.ceil(math.log(n, 2)))"
   ]
  },
  {
   "cell_type": "code",
   "execution_count": 88,
   "metadata": {},
   "outputs": [
    {
     "name": "stdout",
     "output_type": "stream",
     "text": [
      "7\n"
     ]
    }
   ],
   "source": [
    "#9\n",
    "s = list(map(int, input().split(' ')))\n",
    "n, k, r = s[0], s[1], s[2]\n",
    "q = 1\n",
    "\n",
    "while n<r:\n",
    "    n*=(1+(k/100))\n",
    "    q+=1\n",
    "print(q)"
   ]
  },
  {
   "cell_type": "code",
   "execution_count": 91,
   "metadata": {},
   "outputs": [
    {
     "name": "stdout",
     "output_type": "stream",
     "text": [
      "3\n"
     ]
    }
   ],
   "source": [
    "#10\n",
    "v1, v2 = float(input()), float(input())\n",
    "n = 0\n",
    "\n",
    "while v2!=0:\n",
    "    if v2<v1:\n",
    "        n+=1\n",
    "    v1 = v2\n",
    "    v2 = float(input())\n",
    "\n",
    "print(n)"
   ]
  }
 ],
 "metadata": {
  "kernelspec": {
   "display_name": "Python 3",
   "language": "python",
   "name": "python3"
  },
  "language_info": {
   "codemirror_mode": {
    "name": "ipython",
    "version": 3
   },
   "file_extension": ".py",
   "mimetype": "text/x-python",
   "name": "python",
   "nbconvert_exporter": "python",
   "pygments_lexer": "ipython3",
   "version": "3.11.0"
  }
 },
 "nbformat": 4,
 "nbformat_minor": 2
}
