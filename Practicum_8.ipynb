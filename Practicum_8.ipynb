{
 "cells": [
  {
   "cell_type": "code",
   "execution_count": 4,
   "id": "e137fc6a",
   "metadata": {},
   "outputs": [
    {
     "name": "stdout",
     "output_type": "stream",
     "text": [
      "8\n"
     ]
    }
   ],
   "source": [
    "#1\n",
    "maximum  = 0\n",
    "a = int(input())\n",
    "while a != -1:\n",
    "    if a > maximum:\n",
    "        maximum = a\n",
    "    a = int(input())\n",
    "print(maximum)"
   ]
  },
  {
   "cell_type": "code",
   "execution_count": null,
   "id": "5b9ebb54",
   "metadata": {},
   "outputs": [
    {
     "name": "stdout",
     "output_type": "stream",
     "text": [
      "7\n"
     ]
    }
   ],
   "source": [
    "#2\n",
    "q  = 0\n",
    "a = int(input())\n",
    "while a != -1:\n",
    "    a = int(input())\n",
    "    q+=1\n",
    "print(q)"
   ]
  },
  {
   "cell_type": "code",
   "execution_count": 8,
   "id": "d88ccf70",
   "metadata": {},
   "outputs": [
    {
     "name": "stdout",
     "output_type": "stream",
     "text": [
      "105880.0\n"
     ]
    }
   ],
   "source": [
    "#3\n",
    "a = int(input())\n",
    "s, q = 0, 0\n",
    "while a != 0:\n",
    "    s += a\n",
    "    q +=1\n",
    "    a = int(input())\n",
    "print(s/q)\n"
   ]
  },
  {
   "cell_type": "code",
   "execution_count": null,
   "id": "29d90316",
   "metadata": {},
   "outputs": [
    {
     "name": "stdout",
     "output_type": "stream",
     "text": [
      "1 = 1\n",
      "1 + 2 = 3\n",
      "1 + 2 + 3 = 6\n",
      "1 + 2 + 3 + 4 = 10\n",
      "1 + 2 + 3 + 4 + 5 = 15\n"
     ]
    }
   ],
   "source": [
    "#4\n",
    "for i in range(1, 5+1):\n",
    "    s=0\n",
    "    for j in range(1, i+1):\n",
    "        if j > 1:\n",
    "            print(' + ', end = '')      \n",
    "        print(j, end = '')  \n",
    "        s += j\n",
    "    print(f' = {s}')"
   ]
  },
  {
   "cell_type": "code",
   "execution_count": 41,
   "id": "0cfedbe2",
   "metadata": {},
   "outputs": [
    {
     "name": "stdout",
     "output_type": "stream",
     "text": [
      "2\n"
     ]
    }
   ],
   "source": [
    "#5\n",
    "def is_perfect(n):\n",
    "    if n <= 1:\n",
    "        return False\n",
    "\n",
    "    div = 1\n",
    "    for i in range(2, int(n**0.5) + 1):\n",
    "        if n % i == 0:\n",
    "            div += i\n",
    "            if i != n // i:\n",
    "                div += n // i\n",
    "    return div == n\n",
    "\n",
    "q = 0\n",
    "for i in range(int(input())+1):\n",
    "    if is_perfect(i):\n",
    "        q+=1\n",
    "print(q)"
   ]
  },
  {
   "cell_type": "code",
   "execution_count": 46,
   "id": "7c25f4d1",
   "metadata": {},
   "outputs": [
    {
     "name": "stdout",
     "output_type": "stream",
     "text": [
      "         *\n",
      "        **\n",
      "       ***\n",
      "      ****\n",
      "     *****\n",
      "    ******\n",
      "   *******\n",
      "  ********\n",
      " *********\n"
     ]
    }
   ],
   "source": [
    "#6\n",
    "n = int(input())\n",
    "for i in range(n-1, 0, -1):\n",
    "    print(i*' ' + (n-i)*'*')"
   ]
  },
  {
   "cell_type": "code",
   "execution_count": null,
   "id": "e659b1fa",
   "metadata": {},
   "outputs": [],
   "source": [
    "#7\n",
    "def is_whole(n):\n",
    "    if n.isdigit()==True and (str(n).count('.')==0)==True:\n",
    "        return True\n",
    "    return False\n",
    "\n",
    "n = input()\n",
    "while is_whole(n) == False:\n",
    "    print('Ошибка. Попробуйте еще раз. ', end = ' ')\n",
    "    n = input('Введите число: ')"
   ]
  },
  {
   "cell_type": "code",
   "execution_count": 67,
   "id": "a57002e6",
   "metadata": {},
   "outputs": [
    {
     "name": "stdout",
     "output_type": "stream",
     "text": [
      "1*8+1=9\n",
      "12*8+2=98\n",
      "123*8+3=987\n",
      "1234*8+4=9876\n",
      "12345*8+5=98765\n",
      "123456*8+6=987654\n",
      "1234567*8+7=9876543\n",
      "12345678*8+8=98765432\n",
      "123456789*8+9=987654321\n",
      "1*9+2=11\n",
      "12*9+3=111\n",
      "123*9+4=1111\n",
      "1234*9+5=11111\n",
      "12345*9+6=111111\n",
      "123456*9+7=1111111\n",
      "1234567*9+8=11111111\n",
      "12345678*9+9=111111111\n",
      "123456789*9+10=1111111111\n",
      "1*1=1\n",
      "11*11=121\n",
      "111*111=12321\n",
      "1111*1111=1234321\n",
      "11111*11111=123454321\n",
      "111111*111111=12345654321\n",
      "1111111*1111111=1234567654321\n",
      "11111111*11111111=123456787654321\n",
      "111111111*111111111=12345678987654321\n"
     ]
    }
   ],
   "source": [
    "#8\n",
    "def function1():\n",
    "    first_number = ''\n",
    "    for i in range(1, 9+1):\n",
    "        first_number += str(i)\n",
    "        print(f'{first_number}*8+{str(i)}={int(first_number)*8+i}')\n",
    "\n",
    "def function2():\n",
    "    first_number = ''\n",
    "    for i in range(1, 9+1):\n",
    "        first_number += str(i)\n",
    "        print(f'{first_number}*9+{str(i+1)}={int(first_number)*9+(i+1)}')\n",
    "\n",
    "def function3():\n",
    "    for i in range(1, 9+1):\n",
    "        print(f'{'1'*i}*{'1'*i}={int('1'*i)**2}')\n",
    "\n",
    "\n",
    "function1()\n",
    "function2()\n",
    "function3()"
   ]
  },
  {
   "cell_type": "code",
   "execution_count": 69,
   "id": "966e38d1",
   "metadata": {},
   "outputs": [
    {
     "name": "stdout",
     "output_type": "stream",
     "text": [
      "2\n",
      "3\n",
      "5\n",
      "7\n",
      "11\n",
      "13\n",
      "17\n",
      "19\n",
      "23\n",
      "29\n",
      "31\n"
     ]
    }
   ],
   "source": [
    "#9\n",
    "def is_prime(n):\n",
    "    if n<=1:\n",
    "        return False\n",
    "    for i in range(2, int(n**0.5)+1):\n",
    "        if n % i == 0:\n",
    "            return False\n",
    "    return True\n",
    "\n",
    "for i in range(int(input())+1):\n",
    "    if is_prime(i):\n",
    "        print(i)"
   ]
  },
  {
   "cell_type": "code",
   "execution_count": 70,
   "id": "e597113d",
   "metadata": {},
   "outputs": [
    {
     "name": "stdout",
     "output_type": "stream",
     "text": [
      "6\n",
      "28\n"
     ]
    }
   ],
   "source": [
    "#10\n",
    "def is_perfect(n):\n",
    "    if n <= 1:\n",
    "        return False\n",
    "\n",
    "    div = 1\n",
    "    for i in range(2, int(n**0.5) + 1):\n",
    "        if n % i == 0:\n",
    "            div += i\n",
    "            if i != n // i:\n",
    "                div += n // i\n",
    "    return div == n\n",
    "\n",
    "\n",
    "for i in range(int(input())+1):\n",
    "    if is_perfect(i):\n",
    "        print(i)"
   ]
  }
 ],
 "metadata": {
  "kernelspec": {
   "display_name": "Python 3",
   "language": "python",
   "name": "python3"
  },
  "language_info": {
   "codemirror_mode": {
    "name": "ipython",
    "version": 3
   },
   "file_extension": ".py",
   "mimetype": "text/x-python",
   "name": "python",
   "nbconvert_exporter": "python",
   "pygments_lexer": "ipython3",
   "version": "3.12.9"
  }
 },
 "nbformat": 4,
 "nbformat_minor": 5
}
