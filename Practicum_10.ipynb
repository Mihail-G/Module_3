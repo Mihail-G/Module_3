{
 "cells": [
  {
   "cell_type": "code",
   "execution_count": 42,
   "metadata": {},
   "outputs": [
    {
     "name": "stdout",
     "output_type": "stream",
     "text": [
      "да\n"
     ]
    }
   ],
   "source": [
    "#1\n",
    "s = input().split('x')\n",
    "if int(s[0])<6.5*2 and int(s[1])<6.5*2:\n",
    "    print('да')\n",
    "else:\n",
    "    print('нет')"
   ]
  },
  {
   "cell_type": "code",
   "execution_count": 43,
   "metadata": {},
   "outputs": [
    {
     "name": "stdout",
     "output_type": "stream",
     "text": [
      "нет\n"
     ]
    }
   ],
   "source": [
    "#2\n",
    "o = list(map(int, input().split('x')))\n",
    "k = list(map(int, input().split('x')))\n",
    "a, b = o[0], o[1]\n",
    "c, d, e = k[0], k[1], k[2]\n",
    "\n",
    "if a*b < min(c,d,e)*(c+d+e-min(c,d,e)-max(c,d,e)):\n",
    "    print('нет')\n",
    "else:\n",
    "    print('да')"
   ]
  },
  {
   "cell_type": "code",
   "execution_count": 48,
   "metadata": {},
   "outputs": [
    {
     "name": "stdout",
     "output_type": "stream",
     "text": [
      "успешно\n"
     ]
    }
   ],
   "source": [
    "#3\n",
    "r = input().split('x')\n",
    "k = int(input())\n",
    "\n",
    "n = int(r[0])\n",
    "m = int(r[1])\n",
    "\n",
    "def f(l,x,y):\n",
    "    for i in range(1,x):\n",
    "        if i*y == l:\n",
    "            return 'успешно'\n",
    "\n",
    "\n",
    "    for j in range(1,y):\n",
    "        if j*x == l:\n",
    "            return 'успешно'\n",
    "    \n",
    "    return 'неосуществимо'\n",
    "\n",
    "print(f(k,n,m))"
   ]
  },
  {
   "cell_type": "code",
   "execution_count": 6,
   "metadata": {},
   "outputs": [
    {
     "name": "stdout",
     "output_type": "stream",
     "text": [
      "черный\n"
     ]
    }
   ],
   "source": [
    "#4\n",
    "p = input()\n",
    "d = {'a':1 , 'b':2 , 'c':3 , 'd':4 , 'e':5 , 'f':6 , 'g':7 , 'h':8}\n",
    "\n",
    "if (d[p[0]] + int(p[1])) %2 == 0:\n",
    "    print('черный')\n",
    "else:\n",
    "    print('белый')"
   ]
  },
  {
   "cell_type": "code",
   "execution_count": 15,
   "metadata": {},
   "outputs": [
    {
     "name": "stdout",
     "output_type": "stream",
     "text": [
      "верно\n"
     ]
    }
   ],
   "source": [
    "#5\n",
    "p = input()\n",
    "p1 = p.split('-')[0]\n",
    "p2 = p.split('-')[1]\n",
    "\n",
    "d = {'a':1 , 'b':2 , 'c':3 , 'd':4 , 'e':5 , 'f':6 , 'g':7 , 'h':8}\n",
    "\n",
    "p11 = d[p1[0]]\n",
    "p12 = int(p1[1])\n",
    "p21 = d[p2[0]]\n",
    "p22 = int(p2[1])\n",
    "\n",
    "if (abs(p21-p11)==2 and abs(p22-p12)==1) or (abs(p22-p12)==2 and abs(p21-p11)==1):\n",
    "    print('верно')\n",
    "else:\n",
    "    print('ошибка')\n"
   ]
  },
  {
   "cell_type": "code",
   "execution_count": null,
   "metadata": {},
   "outputs": [
    {
     "name": "stdout",
     "output_type": "stream",
     "text": [
      "8\n"
     ]
    }
   ],
   "source": [
    "#6\n",
    "s = list(map(int, input().split()))\n",
    "n, k, m = s[0], s[1], s[2]\n",
    "t=0\n",
    "\n",
    "while n>0:\n",
    "    t+= (m*2)\n",
    "    n-=k\n",
    "    \n",
    "print(t)"
   ]
  },
  {
   "cell_type": "code",
   "execution_count": 39,
   "metadata": {},
   "outputs": [
    {
     "name": "stdout",
     "output_type": "stream",
     "text": [
      "да\n"
     ]
    }
   ],
   "source": [
    "#7\n",
    "def sushi_order(a):\n",
    "    for i in range(0, n+1):\n",
    "        for j in range(0, n+1):\n",
    "            if i*5 + j*7 == a:\n",
    "                return 'да'\n",
    "    return 'нет'\n",
    "\n",
    "\n",
    "print(sushi_order(int(input())))\n"
   ]
  },
  {
   "cell_type": "code",
   "execution_count": 58,
   "metadata": {},
   "outputs": [
    {
     "name": "stdout",
     "output_type": "stream",
     "text": [
      "5\n"
     ]
    }
   ],
   "source": [
    "#8\n",
    "m = [list(map(int, str(i))) for i in range(200+1)]\n",
    "m = [x for l in m for x in l]\n",
    "print(m[int(input())])"
   ]
  },
  {
   "cell_type": "code",
   "execution_count": null,
   "metadata": {},
   "outputs": [
    {
     "name": "stdout",
     "output_type": "stream",
     "text": [
      "Окружности пересекаются\n"
     ]
    }
   ],
   "source": [
    "#9\n",
    "import math\n",
    "import turtle as trt\n",
    "\n",
    "xc1, yc1, r1 = int(input()), int(input()), int(input())\n",
    "xc2, yc2, r2 = int(input()), int(input()), int(input())\n",
    "\n",
    "\n",
    "d = math.sqrt((xc2 - xc1)**2 + (yc2 - yc1)**2)\n",
    "sum_r = r1 + r2\n",
    "dif_r = abs(r2 - r1)\n",
    "\n",
    "\n",
    "if d > sum_r:\n",
    "    print(\"Окружности лежат одна вне другой, не касаясь\")\n",
    "elif d == sum_r:\n",
    "    print(\"Окружности имеют внешнее касание\")\n",
    "elif d < sum_r and d > dif_r:\n",
    "    print(\"Окружности пересекаются\")\n",
    "elif d < dif_r:\n",
    "    print(\"Одна окружность лежит внутри другой, не касаясь\")\n",
    "elif d == dif_r:\n",
    "    print(\"Окружности имеют внутреннее касание\")\n",
    "else:\n",
    "    print(\"Ошибка в расчетах\")\n",
    "\n",
    "\n",
    "trt.up()\n",
    "trt.setposition(xc1, yc1 - r1)\n",
    "trt.down()\n",
    "trt.circle(r1)\n",
    "\n",
    "\n",
    "trt.up()\n",
    "trt.setposition(xc2, yc2 - r1)\n",
    "trt.down()\n",
    "trt.circle(r2)\n",
    "\n",
    "\n",
    "trt.mainloop()"
   ]
  },
  {
   "cell_type": "code",
   "execution_count": null,
   "metadata": {},
   "outputs": [
    {
     "name": "stdout",
     "output_type": "stream",
     "text": [
      "Прямоугольники имеют пересечение.\n"
     ]
    }
   ],
   "source": [
    "#10\n",
    "import turtle as trt\n",
    "\n",
    "x1_1, y1_1, x2_1, y2_1 = int(input()), int(input()), int(input()), int(input()) # Первый прямоугольник\n",
    "x1_2, y1_2, x2_2, y2_2 = int(input()), int(input()), int(input()), int(input()) # Второй прямоугольник\n",
    "\n",
    "\n",
    "#Касание\n",
    "touch = ((x1_1==x2_2 and y1_1==y2_2) or \n",
    "         (x1_1==x2_2 and y2_1==y1_2) or \n",
    "         (x2_1==x1_2 and y1_1==y2_2) or \n",
    "         (x2_1==x1_2 and y2_1==y1_2))\n",
    "\n",
    "\n",
    "#Пересечение\n",
    "inter = (x1_1==x2_2 or x2_1==x1_2 or y1_1==y2_2 or y2_1==y1_2 or \n",
    "         (x1_1>x1_2 and y1_1<y1_2 and x1_1<x2_2 and y1_1>y2_2) or \n",
    "         (x2_1<x2_2 and y2_1>y2_2 and x2_1>x1_2 and y2_1<y1_2) or \n",
    "         (x1_1<x1_2 and y1_1<y1_2 and x1_1<x2_2 and y1_1>y2_2) or \n",
    "         (x1_1<x2_2 and y1_1>y2_2 and x1_1>x1_2 and y1_1>y1_2))\n",
    "\n",
    "\n",
    "#Вложение\n",
    "put = ((x1_1<x1_2 and x2_1>x2_2 and y1_1>y1_2 and y2_1<y2_2) or \n",
    "       (x1_2<x1_1 and x2_2>x2_1 and y1_2>y1_1 and y2_2<y2_1))\n",
    "\n",
    "\n",
    "if touch:\n",
    "    print(\"Прямоугольники имеют касание.\")\n",
    "elif put:\n",
    "    print(\"Один прямоугольник лежит внутри другого, не касаясь\")\n",
    "elif inter:\n",
    "    print(\"Прямоугольники имеют пересечение.\")\n",
    "else:\n",
    "    print(\"Прямоугольники лежат вне друг друга, не касаясь.\")\n",
    "\n",
    "\n",
    "trt.setposition(x1_1, y1_1)\n",
    "trt.forward(x2_1-x1_1)\n",
    "trt.left(90)\n",
    "trt.forward(y2_1-y1_1)\n",
    "trt.left(90)\n",
    "trt.forward(x2_1-x1_1)\n",
    "trt.left(90)\n",
    "trt.forward(y2_1-y1_1)\n",
    "trt.left(90)\n",
    "\n",
    "\n",
    "trt.up()\n",
    "trt.setposition(x1_2, y1_2)\n",
    "trt.down()\n",
    "trt.forward(x2_2-x1_2)\n",
    "trt.left(90)\n",
    "trt.forward(y2_2-y1_2)\n",
    "trt.left(90)\n",
    "trt.forward(x2_2-x1_2)\n",
    "trt.left(90)\n",
    "trt.forward(y2_2-y1_2)\n",
    "\n",
    "\n",
    "trt.mainloop()\n"
   ]
  }
 ],
 "metadata": {
  "kernelspec": {
   "display_name": "Python 3",
   "language": "python",
   "name": "python3"
  },
  "language_info": {
   "codemirror_mode": {
    "name": "ipython",
    "version": 3
   },
   "file_extension": ".py",
   "mimetype": "text/x-python",
   "name": "python",
   "nbconvert_exporter": "python",
   "pygments_lexer": "ipython3",
   "version": "3.11.0"
  }
 },
 "nbformat": 4,
 "nbformat_minor": 2
}
